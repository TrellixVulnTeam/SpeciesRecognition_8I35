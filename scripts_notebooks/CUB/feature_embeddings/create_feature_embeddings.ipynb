{
 "cells": [
  {
   "cell_type": "code",
   "execution_count": null,
   "metadata": {},
   "outputs": [],
   "source": [
    "import clip\n",
    "import torch\n",
    "from torch.utils.data import DataLoader\n",
    "from tqdm import tqdm\n",
    "import utils_cub as ut\n",
    "import numpy as np"
   ]
  },
  {
   "cell_type": "code",
   "execution_count": null,
   "metadata": {},
   "outputs": [],
   "source": [
    "# set parameters\n",
    "\n",
    "root  = \"/path/to/repository/SpeciesRecognition/\"\n",
    "\n",
    "model_architecture = 'ViT-B/32' #'RN50'\n",
    "\n",
    "device = \"cuda\" if torch.cuda.is_available() else \"cpu\"\n",
    "model, preprocess = clip.load(model_architecture, device)\n",
    "\n",
    "batch_size = 32 \n",
    "validation_split  = 0.1"
   ]
  },
  {
   "cell_type": "code",
   "execution_count": null,
   "metadata": {},
   "outputs": [],
   "source": [
    "def get_features(dataloader):\n",
    "    all_features = []\n",
    "    all_labels = []\n",
    "    \n",
    "    with torch.no_grad():\n",
    "        for images, labels in tqdm(dataloader):\n",
    "            features = model.encode_image(images.to(device))\n",
    "\n",
    "            all_features.append(features)\n",
    "            all_labels.append(labels)\n",
    "\n",
    "    return torch.cat(all_features).cpu().numpy(), torch.cat(all_labels).cpu().numpy()\n",
    "\n",
    "def save_features(name, data):\n",
    "    np.save(name, data)\n",
    "\n",
    "def load_features(name):\n",
    "    return np.load(name)"
   ]
  },
  {
   "cell_type": "code",
   "execution_count": null,
   "metadata": {},
   "outputs": [],
   "source": [
    "# get features\n",
    "\n",
    "train_data_loader, val_data_loader, test_data_loader  = ut.get_CUB_dataloader(root, batch_size, validation_split, preprocess)\n",
    "\n",
    "train_features, train_labels = get_features(train_data_loader)\n",
    "val_features, val_labels = get_features(val_data_loader)\n",
    "test_features, test_labels = get_features(test_data_loader)"
   ]
  },
  {
   "cell_type": "code",
   "execution_count": null,
   "metadata": {},
   "outputs": [],
   "source": [
    "#save features \n",
    "\n",
    "nn = model_architecture.replace(\n",
    "        \"/\", \"-\").lower()\n",
    "\n",
    "ut.save_features('train_features_cub_' + nn + '.npy', train_features)\n",
    "ut.save_features('train_labels_cub_' + nn + '.npy', train_labels)\n",
    "ut.save_features('val_features_cub_' + nn + '.npy', val_features)\n",
    "ut.save_features('val_labels_cub_' + nn + '.npy', val_labels)\n",
    "ut.save_features('test_features_cub_' + nn + '.npy', test_features)\n",
    "ut.save_features('test_labels_cub_' + nn + '.npy', test_labels)\n"
   ]
  },
  {
   "cell_type": "code",
   "execution_count": null,
   "metadata": {},
   "outputs": [],
   "source": []
  }
 ],
 "metadata": {
  "interpreter": {
   "hash": "8f1ab7bd00305abf563783cf886ad48376bdebc4e6c4cabca0193d1c2aa508f4"
  },
  "kernelspec": {
   "display_name": "Python 3.7.11 ('MA')",
   "language": "python",
   "name": "python3"
  },
  "language_info": {
   "codemirror_mode": {
    "name": "ipython",
    "version": 3
   },
   "file_extension": ".py",
   "mimetype": "text/x-python",
   "name": "python",
   "nbconvert_exporter": "python",
   "pygments_lexer": "ipython3",
   "version": "3.7.11"
  },
  "orig_nbformat": 4
 },
 "nbformat": 4,
 "nbformat_minor": 2
}
